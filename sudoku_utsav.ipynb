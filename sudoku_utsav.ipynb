{
 "cells": [
  {
   "cell_type": "code",
   "execution_count": 489,
   "id": "0b2fcf4c",
   "metadata": {},
   "outputs": [],
   "source": [
    "grid_wiki =   [[5, 3, 0, 0, 7, 0, 0, 0, 0],\n",
    "               [6, 0, 0, 1, 9, 5, 0, 0, 0],\n",
    "               [0, 9, 8, 0, 0, 0, 0, 6, 0],\n",
    "               [8, 0, 0, 0, 6, 0, 0, 0, 3],\n",
    "               [4, 0, 0, 8, 0, 3, 0, 0, 1],\n",
    "               [7, 0, 0, 0, 2, 0, 0, 0, 6],\n",
    "               [0, 6, 0, 0, 0, 0, 2, 8, 0],\n",
    "               [0, 0, 0, 4, 1, 9, 0, 0, 5],\n",
    "               [0, 0, 0, 0, 8, 0, 0, 7, 9]]"
   ]
  },
  {
   "cell_type": "code",
   "execution_count": 490,
   "id": "88cec7ef",
   "metadata": {},
   "outputs": [],
   "source": [
    "def row_unused_digit(grid, valid_digit, i):\n",
    "    for k in range(9):\n",
    "        if grid[i][k] > 0:\n",
    "            valid_digit[grid[i][k] - 1] = 0\n",
    "#    print(valid_digit)       "
   ]
  },
  {
   "cell_type": "code",
   "execution_count": 491,
   "id": "75233bb8",
   "metadata": {},
   "outputs": [],
   "source": [
    "def column_unused_digit(grid, valid_digit, j):\n",
    "    for k in range(9):\n",
    "        if grid[k][j] > 0:\n",
    "            valid_digit[grid[k][j] - 1] = 0\n",
    "#    print(valid_digit)       "
   ]
  },
  {
   "cell_type": "code",
   "execution_count": 492,
   "id": "cfa806df",
   "metadata": {},
   "outputs": [],
   "source": [
    "def block_unused_digit(grid, valid_digit, i, j):\n",
    "    for i in range(3 * (i // 3), 3 * (i // 3) + 3 ):\n",
    "        for j in range(3 * (j // 3), 3 * (j // 3) +3 ):\n",
    "            if grid[i][j] > 0:\n",
    "                valid_digit[grid[i][j] - 1] = 0\n",
    "#    print(valid_digit)"
   ]
  },
  {
   "cell_type": "code",
   "execution_count": 493,
   "id": "457a19ec",
   "metadata": {},
   "outputs": [],
   "source": [
    "def possible_number(grid, i, j):\n",
    "    valid_digit = [1]*9\n",
    "    row_unused_digit(grid, valid_digit, i) \n",
    "    column_unused_digit(grid, valid_digit, j) \n",
    "    block_unused_digit(grid, valid_digit, i, j)\n",
    "    \n",
    "    possible_num = []\n",
    "    \n",
    "    for i in range(9):\n",
    "            if(valid_digit[i] == 1):\n",
    "                possible_num.append(i+1)\n",
    "                \n",
    "    return possible_num"
   ]
  },
  {
   "cell_type": "code",
   "execution_count": 494,
   "id": "5b56cbf7",
   "metadata": {},
   "outputs": [],
   "source": [
    "def best_cell(grid):\n",
    "    best_count=[0]*4\n",
    "    best_prev=[0]*4\n",
    "    best_cell=[0]*4\n",
    "    for i in range(9):\n",
    "        for j in range(9):\n",
    "            if grid[i][j]==0:\n",
    "                pos_num=possible_number(grid,i,j)\n",
    "                best_prev=best_count\n",
    "                best_digit=[0]*9\n",
    "                best_count[3]=len(pos_num)\n",
    "                if(best_count[3]==1):\n",
    "                    best_digit[pos_num[0]-1]=1\n",
    "                    best_cell=[i,j,best_digit]\n",
    "                    return best_cell\n",
    "                best_count[0]=i\n",
    "                best_count[1]=j\n",
    "                best_count[2]=pos_num\n",
    "                if(best_count[2]>best_prev[2]):\n",
    "                    best_cell[0]=best_prev[0]\n",
    "                    best_cell[1]=best_prev[1]\n",
    "                    for p in best_prev[2]:\n",
    "                        best_digit[p-1]=1\n",
    "                    best_cell[2]=best_digit  \n",
    "                else:\n",
    "                    best_cell[0]=best_count[0]\n",
    "                    best_cell[1]=best_count[1]\n",
    "                    for p in best_count[2]:\n",
    "                        best_digit[p-1]=1\n",
    "                    best_cell[2]=best_digit\n",
    "\n",
    "            \n",
    "    return [1]"
   ]
  },
  {
   "cell_type": "code",
   "execution_count": 502,
   "id": "865e406e",
   "metadata": {},
   "outputs": [],
   "source": [
    "def solve_sudoko(grid):\n",
    "    while(1):\n",
    "        bs=best_cell(grid)\n",
    "        if(bs==[1]):\n",
    "            break\n",
    "        for i in range(len(bs[2])):\n",
    "            if (bs[2][i]==1):\n",
    "                grid[bs[0]][bs[1]]=i+1\n",
    "                \n",
    "                break"
   ]
  },
  {
   "cell_type": "code",
   "execution_count": 503,
   "id": "67806399",
   "metadata": {},
   "outputs": [],
   "source": [
    "def sudoku2str(grid):    \n",
    "    for i in range(9):\n",
    "        if i%3 == 0:\n",
    "            print(\"-----------------------\")\n",
    "            \n",
    "        for j in range(9):\n",
    "            if j%3 == 0:\n",
    "                \n",
    "                print(\"|\", end =\"\")\n",
    "            \n",
    "            print(str(grid[i][j])+\" \", end=\"\")\n",
    "        print(\"|\")\n",
    "    print(\"-----------------------\")"
   ]
  },
  {
   "cell_type": "code",
   "execution_count": 504,
   "id": "0cecb267",
   "metadata": {},
   "outputs": [
    {
     "name": "stdout",
     "output_type": "stream",
     "text": [
      "-----------------------\n",
      "|5 3 4 |6 7 8 |9 1 2 |\n",
      "|6 7 2 |1 9 5 |3 4 8 |\n",
      "|1 9 8 |3 4 2 |5 6 7 |\n",
      "-----------------------\n",
      "|8 5 9 |7 6 1 |4 2 3 |\n",
      "|4 2 6 |8 5 3 |7 9 1 |\n",
      "|7 1 3 |9 2 4 |8 5 6 |\n",
      "-----------------------\n",
      "|9 6 1 |5 3 7 |2 8 4 |\n",
      "|2 8 7 |4 1 9 |6 3 5 |\n",
      "|3 4 5 |2 8 6 |1 7 9 |\n",
      "-----------------------\n"
     ]
    }
   ],
   "source": [
    "solve_sudoko(grid_wiki)\n",
    "sudoku2str(grid_wiki)"
   ]
  },
  {
   "cell_type": "code",
   "execution_count": null,
   "id": "60148272",
   "metadata": {},
   "outputs": [],
   "source": []
  }
 ],
 "metadata": {
  "kernelspec": {
   "display_name": "Python 3",
   "language": "python",
   "name": "python3"
  },
  "language_info": {
   "codemirror_mode": {
    "name": "ipython",
    "version": 3
   },
   "file_extension": ".py",
   "mimetype": "text/x-python",
   "name": "python",
   "nbconvert_exporter": "python",
   "pygments_lexer": "ipython3",
   "version": "3.8.8"
  }
 },
 "nbformat": 4,
 "nbformat_minor": 5
}
